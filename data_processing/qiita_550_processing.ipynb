{
 "cells": [
  {
   "cell_type": "code",
   "execution_count": 25,
   "id": "e170c0fc-a01c-4fae-a3a0-a636f908e1a9",
   "metadata": {},
   "outputs": [],
   "source": [
    "import pandas as pd\n",
    "import matplotlib.pyplot as plt\n",
    "import seaborn as sns\n",
    "\n",
    "from scipy import interpolate \n",
    "\n",
    "import qiime2"
   ]
  },
  {
   "cell_type": "code",
   "execution_count": 1,
   "id": "f96288be-89ae-4f5d-9993-74ca8be12c83",
   "metadata": {},
   "outputs": [
    {
     "name": "stdout",
     "output_type": "stream",
     "text": [
      "/storage/zkarwowska/zkarwowska/microbiome-interactions/datasets/processed/qiita_550\n"
     ]
    }
   ],
   "source": [
    "%cd /storage/zkarwowska/zkarwowska/microbiome-interactions/datasets/processed/qiita_550/"
   ]
  },
  {
   "cell_type": "markdown",
   "id": "7a17f125-0493-45bd-b775-36a3f34d7575",
   "metadata": {},
   "source": [
    "## 1. read and separate data between two subjects"
   ]
  },
  {
   "cell_type": "code",
   "execution_count": 86,
   "id": "33c8f3b2-fd9a-465f-8fbb-91219acf14a0",
   "metadata": {},
   "outputs": [],
   "source": [
    "FEATURE_TABLE_FILE = 'raw_data/550_reference.tsv'\n",
    "METADATA_FILE = 'raw_data/550_metadata.txt'"
   ]
  },
  {
   "cell_type": "code",
   "execution_count": 87,
   "id": "f47edd0d-59a3-44c6-97d6-7cc935286301",
   "metadata": {},
   "outputs": [],
   "source": [
    "#read feature table and metadata\n",
    "feature_table = pd.read_csv(FEATURE_TABLE_FILE, sep = '\\t', skiprows = [0], index_col=[0])\n",
    "metadata = pd.read_csv(METADATA_FILE, sep = '\\t')"
   ]
  },
  {
   "cell_type": "code",
   "execution_count": 89,
   "id": "1227971d-9101-417f-b2c5-2561fa0d914a",
   "metadata": {},
   "outputs": [],
   "source": [
    "#remove mislabeled data and select only gut microbiome samples\n",
    "metadata =  metadata[(metadata['mislabeled'] == False) & (metadata['body_site'] == 'UBERON:feces')]\n",
    "\n",
    "#separate female from male samples\n",
    "male_samples = metadata[metadata['sex'] == 'male']['sample_name']\n",
    "female_samples = metadata[metadata['sex'] == 'female']['sample_name']"
   ]
  },
  {
   "cell_type": "code",
   "execution_count": 90,
   "id": "02acd040-4561-4008-9a74-9de0000dbb12",
   "metadata": {},
   "outputs": [
    {
     "name": "stdout",
     "output_type": "stream",
     "text": [
      "no of M subject samples: 332, no of F subject samples: 130\n"
     ]
    }
   ],
   "source": [
    "print('no of M subject samples: {}, no of F subject samples: {}'.format(len(male_samples), len(female_samples)))"
   ]
  },
  {
   "cell_type": "code",
   "execution_count": 91,
   "id": "a17ae5a9-ec0b-4c34-a862-17c7cb923ecd",
   "metadata": {},
   "outputs": [
    {
     "data": {
      "image/png": "[encoded data removed]",
      "text/plain": [
       "<Figure size 300x300 with 1 Axes>"
      ]
     },
     "metadata": {},
     "output_type": "display_data"
    }
   ],
   "source": [
    "samples_df = pd.DataFrame(list(zip(['M_subject', 'F_subject'], [len(male_samples), len(female_samples)])),\n",
    "                          columns = ['donor', 'number_of_samples'])\n",
    "\n",
    "plt.figure(figsize = [3, 3])\n",
    "sns.barplot(data = samples_df,\n",
    "            x = 'donor',\n",
    "            y='number_of_samples',\n",
    "            palette = ['Grey', 'Orange']\n",
    "           )\n",
    "plt.show()"
   ]
  },
  {
   "cell_type": "markdown",
   "id": "2402a01f-9557-4786-af44-295881c73b7f",
   "metadata": {},
   "source": [
    "## 2. interpolate using nearest interpolation\n",
    "\n"
   ]
  },
  {
   "cell_type": "code",
   "execution_count": 106,
   "id": "a03992b5-8376-45b4-a672-a4daa58c2fb7",
   "metadata": {},
   "outputs": [],
   "source": [
    "#make dictionary with sample name and time step\n",
    "sample_to_day_dict = dict(zip(metadata['sample_name'], metadata['days_since_experiment_start']))\n",
    "\n",
    "#filter male and female data\n",
    "male_df = feature_table[male_samples]\n",
    "female_df = feature_table[female_samples]\n",
    "\n",
    "#change column names into days_since_experiment_start and remove otus that are 0 in all timesteps\n",
    "male_timestep_df = male_df.rename(columns=sample_to_day_dict).T.sort_index()\n",
    "male_timestep_df = male_timestep_df.loc[:, male_timestep_df.any()]\n",
    "\n",
    "female_timestep_df = female_df.rename(columns=sample_to_day_dict).T.sort_index()\n",
    "female_timestep_df = female_timestep_df.loc[:, female_timestep_df.any()]"
   ]
  },
  {
   "cell_type": "code",
   "execution_count": 107,
   "id": "af9fd8aa-df8f-46cb-b8f5-8489c425ce9d",
   "metadata": {},
   "outputs": [
    {
     "name": "stdout",
     "output_type": "stream",
     "text": [
      "number of missing days for donor A is: 111 and for donor B: 56\n"
     ]
    }
   ],
   "source": [
    "#check missing timepoints\n",
    "def calcualte_missing_points(df):\n",
    "\n",
    "    full_timepoints = [i for i in range(0, int(df.index[-1]))]\n",
    "    missing_timepoints  = list(set(full_timepoints) - set(df.index))\n",
    "    \n",
    "    return len(missing_timepoints)\n",
    "\n",
    "print('number of missing days for donor A is: {} and for donor B: {}'.format(calcualte_missing_points(male_timestep_df), calcualte_missing_points(female_timestep_df)))"
   ]
  },
  {
   "cell_type": "code",
   "execution_count": 108,
   "id": "30811c39-c647-4559-baee-561762056e1d",
   "metadata": {},
   "outputs": [
    {
     "data": {
      "image/png": "[encoded data removed]",
      "text/plain": [
       "<Figure size 300x300 with 1 Axes>"
      ]
     },
     "metadata": {},
     "output_type": "display_data"
    }
   ],
   "source": [
    "#plot missing timepoints\n",
    "missing_days_df = pd.DataFrame(list(zip(['DonorA', 'DonorB'],\n",
    "                                        [calcualte_missing_points(male_timestep_df), calcualte_missing_points(female_timestep_df)])),\n",
    "                               columns = ['donor', 'missing_days'])\n",
    "\n",
    "plt.figure(figsize = [3, 3])\n",
    "sns.barplot(data = missing_days_df,\n",
    "            x = 'donor',\n",
    "            y='missing_days',\n",
    "            palette = ['Grey', 'Orange']\n",
    "           )\n",
    "plt.show()"
   ]
  },
  {
   "cell_type": "code",
   "execution_count": 109,
   "id": "5f300199-e420-487d-b4d7-e84a6d4dc8b7",
   "metadata": {},
   "outputs": [],
   "source": [
    "def nearest_interp(col, masked_df):\n",
    "        \n",
    "    df_interpolated = pd.DataFrame(index = masked_df.index)\n",
    "\n",
    "    tmp = masked_df[col]\n",
    "    base_nodes =  tmp.dropna().index #nodes\n",
    "    interpolated_nodes = tmp[tmp.isna()].index.tolist() #this is being interpolated\n",
    "    \n",
    "    f = interpolate.interp1d(base_nodes,\n",
    "                             tmp.dropna().values,\n",
    "                             kind='nearest', \n",
    "                            fill_value=\"extrapolate\")\n",
    "    new_y = f(interpolated_nodes)\n",
    "\n",
    "    name = str(col)\n",
    "    df_interpolated.loc[base_nodes, name] = tmp.dropna().values\n",
    "    df_interpolated.loc[interpolated_nodes, name] = new_y\n",
    "    \n",
    "    return df_interpolated\n",
    "\n",
    "#interpolate dataframe using nearest interpolation method\n",
    "def interpolate_data(df):\n",
    "    \n",
    "    #check how many points are missing\n",
    "    full_df = list(range(0, int(df.index[-1])))\n",
    "    missing_tpoints = list(set(full_df) - set(df.index.astype(int)))\n",
    "\n",
    "    #add missing rows to out dataframe\n",
    "    df_with_missing_tpoints = df.reindex(df.index.union(missing_tpoints))\n",
    "\n",
    "    #dataframe with only missing timepoints\n",
    "    masked_df = df_with_missing_tpoints.loc[missing_tpoints]\n",
    "\n",
    "    #missing timepoints \n",
    "    print(df_with_missing_tpoints.isna().sum()[0] )\n",
    "    \n",
    "    #interpolate\n",
    "    interpolated_timepoints = []\n",
    "    for col in df_with_missing_tpoints.columns:\n",
    "        y = nearest_interp(col, df_with_missing_tpoints)\n",
    "        interpolated_timepoints.append(y)\n",
    "        \n",
    "    nearest_df = pd.concat(interpolated_timepoints, axis=1)\n",
    "\n",
    "    return nearest_df"
   ]
  },
  {
   "cell_type": "code",
   "execution_count": 114,
   "id": "944fdd62-bdee-4dfd-804d-5842c96a3139",
   "metadata": {},
   "outputs": [
    {
     "name": "stdout",
     "output_type": "stream",
     "text": [
      "111\n",
      "56\n"
     ]
    }
   ],
   "source": [
    "interpolated_male_df = interpolate_data(male_timestep_df)\n",
    "interpolated_female_df = interpolate_data(female_timestep_df)"
   ]
  },
  {
   "cell_type": "code",
   "execution_count": 76,
   "id": "b33ee832-a9a4-47ac-8c2c-937a17d8dcfe",
   "metadata": {},
   "outputs": [],
   "source": [
    "%mkdir data_processing/interpolation_rarefaction"
   ]
  },
  {
   "cell_type": "code",
   "execution_count": 119,
   "id": "b204eaa8-5d42-499f-a914-3eb8c767da1c",
   "metadata": {},
   "outputs": [],
   "source": [
    "interpolated_male_df.T.to_csv('data_processing/interpolation_rarefaction/interpolated_male_df.csv', sep = '\\t')\n",
    "interpolated_female_df.T.to_csv('data_processing/interpolation_rarefaction/interpolated_female_df.csv', sep = '\\t')"
   ]
  },
  {
   "cell_type": "markdown",
   "id": "da04723a-84c3-4ecd-ba08-0ecfbf7edb0a",
   "metadata": {},
   "source": [
    "## 3. rarefy"
   ]
  },
  {
   "cell_type": "code",
   "execution_count": null,
   "id": "2157502c-224f-46b8-9b9e-913a7dd9f5bc",
   "metadata": {},
   "outputs": [],
   "source": [
    "#convert file to biom format\n",
    "biom convert -i interpolated_male_df.csv -o interpolated_male_df.biom --table-type=\"OTU table\" --to-hdf5\n",
    "biom convert -i interpolated_female_df.csv -o interpolated_female_df.biom --table-type=\"OTU table\" --to-hdf5"
   ]
  },
  {
   "cell_type": "code",
   "execution_count": 120,
   "id": "6258a488-2553-4a52-9c46-0b2e0acc5349",
   "metadata": {},
   "outputs": [
    {
     "name": "stdout",
     "output_type": "stream",
     "text": [
      "/storage/zkarwowska/zkarwowska/microbiome-interactions/datasets/processed/qiita_550/data_processing/interpolation_rarefaction\n"
     ]
    }
   ],
   "source": [
    "%cd data_processing/interpolation_rarefaction"
   ]
  },
  {
   "cell_type": "code",
   "execution_count": 124,
   "id": "e7abeffd-99a5-4de4-8aaa-cbd739b4b889",
   "metadata": {},
   "outputs": [],
   "source": [
    "def rarefy_table(biom_file):\n",
    "    \n",
    "    unrarefied_table = qiime2.Artifact.import_data(\"FeatureTable[Frequency]\", biom_file)\n",
    "    #rarefy\n",
    "    rarefy_result = rarefy(table=unrarefied_table, sampling_depth=16000)\n",
    "    rarefied_table = rarefy_result.rarefied_table\n",
    "    rarefied_table_df = rarefied_table.view(pd.DataFrame)\n",
    "    \n",
    "    return rarefied_table_df"
   ]
  },
  {
   "cell_type": "code",
   "execution_count": 127,
   "id": "a2a76ae2-33b2-443e-8f14-824a5690dc30",
   "metadata": {},
   "outputs": [],
   "source": [
    "male_interpolated_rarefied_df = rarefy_table('interpolated_male_df.biom')\n",
    "female_interpolated_rarefied_df = rarefy_table('interpolated_female_df.biom')"
   ]
  },
  {
   "cell_type": "markdown",
   "id": "dd98934d-a467-4a1e-93dd-1ff12df16ac7",
   "metadata": {},
   "source": [
    "## 4. reinterpolate missing timepoints that were lost after rarefaction"
   ]
  },
  {
   "cell_type": "code",
   "execution_count": 126,
   "id": "12e055d8-b1da-4483-894d-265a14000ad9",
   "metadata": {},
   "outputs": [],
   "source": [
    "def reinterpolate_data(df):\n",
    "    \n",
    "    missing_timepoints_after_rarefaction = list(set([float(i) for i in range(0, df.shape[0])]) - set(df.index.astype(float)))\n",
    "    rarefied_df_with_missing_tpoints = df.reindex(df.index.union(missing_timepoints_after_rarefaction))\n",
    "    rarefied_df_with_missing_tpoints.index = rarefied_df_with_missing_tpoints.index.astype(float)\n",
    "\n",
    "    interpolated_timepoints = []\n",
    "    for col in rarefied_df_with_missing_tpoints.columns:\n",
    "        y = nearest_interp(col, rarefied_df_with_missing_tpoints)\n",
    "        interpolated_timepoints.append(y)\n",
    "\n",
    "    nearest_rarefied_interpolated_df = pd.concat(interpolated_timepoints, axis=1)\n",
    "    nearest_rarefied_interpolated_df.index = nearest_rarefied_interpolated_df.index.astype(int)\n",
    "    nearest_rarefied_interpolated_df.index.name = '#OTU ID'\n",
    "    \n",
    "    return nearest_rarefied_interpolated_df"
   ]
  },
  {
   "cell_type": "code",
   "execution_count": 128,
   "id": "88d67881-b4e8-440a-a14f-0fabb96947df",
   "metadata": {},
   "outputs": [],
   "source": [
    "male_reinterpolated_rarefied_df = reinterpolate_data(male_interpolated_rarefied_df)\n",
    "female_reinterpolated_rarefied_df = reinterpolate_data(female_interpolated_rarefied_df)"
   ]
  },
  {
   "cell_type": "code",
   "execution_count": 131,
   "id": "b27f7a48-8bc4-4068-9c0e-c836a3ca1906",
   "metadata": {},
   "outputs": [
    {
     "name": "stdout",
     "output_type": "stream",
     "text": [
      "(443, 1219) (186, 544)\n"
     ]
    }
   ],
   "source": [
    "print(male_reinterpolated_rarefied_df.shape, female_reinterpolated_rarefied_df.shape)"
   ]
  },
  {
   "cell_type": "code",
   "execution_count": 132,
   "id": "c8caf494-6d85-4b00-bc9c-d30b00a4a58d",
   "metadata": {},
   "outputs": [],
   "source": [
    "male_reinterpolated_rarefied_df.to_csv('male_rarefied_interpolated_feces.csv')\n",
    "female_reinterpolated_rarefied_df.to_csv('female_rarefied_interpolated_feces.csv')"
   ]
  }
 ],
 "metadata": {
  "kernelspec": {
   "display_name": "qiime2_env",
   "language": "python",
   "name": "qiime2_env"
  },
  "language_info": {
   "codemirror_mode": {
    "name": "ipython",
    "version": 3
   },
   "file_extension": ".py",
   "mimetype": "text/x-python",
   "name": "python",
   "nbconvert_exporter": "python",
   "pygments_lexer": "ipython3",
   "version": "3.8.12"
  }
 },
 "nbformat": 4,
 "nbformat_minor": 5
}
