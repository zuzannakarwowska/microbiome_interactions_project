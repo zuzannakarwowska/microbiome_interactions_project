{
 "cells": [
  {
   "cell_type": "code",
   "execution_count": 1,
   "id": "e170c0fc-a01c-4fae-a3a0-a636f908e1a9",
   "metadata": {},
   "outputs": [],
   "source": [
    "import pandas as pd\n",
    "import seaborn as sns\n",
    "import matplotlib.pyplot as plt\n",
    "from scipy import interpolate \n",
    "import qiime2\n",
    "from qiime2.plugins.feature_table.methods import rarefy\n"
   ]
  },
  {
   "cell_type": "code",
   "execution_count": 2,
   "id": "f96288be-89ae-4f5d-9993-74ca8be12c83",
   "metadata": {},
   "outputs": [
    {
     "name": "stdout",
     "output_type": "stream",
     "text": [
      "/storage/zkarwowska/zkarwowska/microbiome-interactions/datasets/processed/qiita_2202\n"
     ]
    }
   ],
   "source": [
    "%cd /storage/zkarwowska/zkarwowska/microbiome-interactions/datasets/processed/qiita_2202/"
   ]
  },
  {
   "cell_type": "markdown",
   "id": "92cbb5dd-9007-4e6f-9bdb-ae55fa664ca5",
   "metadata": {},
   "source": [
    "## 1. read and separate data between two subjects"
   ]
  },
  {
   "cell_type": "code",
   "execution_count": 3,
   "id": "f513fe3f-2e5e-4bd6-9899-0a7427025ef3",
   "metadata": {},
   "outputs": [],
   "source": [
    "FEATURE_TABLE_FILE = '2202_feature_table.tsv'\n",
    "METADATA_FILE = '2202_metadata.tsv'"
   ]
  },
  {
   "cell_type": "code",
   "execution_count": 4,
   "id": "f47edd0d-59a3-44c6-97d6-7cc935286301",
   "metadata": {},
   "outputs": [],
   "source": [
    "#read feature table and metadata\n",
    "feature_table = pd.read_csv(FEATURE_TABLE_FILE,\n",
    "                            sep = '\\t', \n",
    "                            skiprows = [0],\n",
    "                            index_col=[0]\n",
    "                           )\n",
    "\n",
    "metadata = pd.read_csv(METADATA_FILE,\n",
    "                       sep = '\\t'\n",
    "                      )"
   ]
  },
  {
   "cell_type": "code",
   "execution_count": 5,
   "id": "9f8492c9-5b1a-4c1f-aa9b-53902484bdf1",
   "metadata": {},
   "outputs": [],
   "source": [
    "#select only feces samples\n",
    "feature_table = feature_table.filter(like = 'Stool')\n",
    "metadata_gut = metadata[metadata['body_site'] == 'UBERON:feces'].dropna(subset = ['collection_day'])"
   ]
  },
  {
   "cell_type": "code",
   "execution_count": 6,
   "id": "349bc505-2f09-43e8-89bb-c854ce3166fe",
   "metadata": {},
   "outputs": [],
   "source": [
    "#filter from metadata samples that are not in feature table\n",
    "missing_samples = ['2202.Stool13', '2202.Stool120', '2202.Stool217', '2202.Stool36', '2202.Stool147', '2202.Stool196', '2202.Stool85', '2202.Stool448']\n",
    "metadata_gut = metadata_gut[~metadata_gut['sample_id'].isin(missing_samples)]"
   ]
  },
  {
   "cell_type": "code",
   "execution_count": 7,
   "id": "75cceae3-a5c8-410b-be6f-71ce8b75bfbe",
   "metadata": {},
   "outputs": [],
   "source": [
    "#separate metadata for s1 and s2 for dict\n",
    "metadata_s1 = metadata_gut[metadata_gut['host_subject_id'] == 'DonorA']\n",
    "metadata_s2 = metadata_gut[metadata_gut['host_subject_id'] == 'DonorB']"
   ]
  },
  {
   "cell_type": "code",
   "execution_count": 8,
   "id": "41f98c33-c31d-457f-b38c-463d117a4363",
   "metadata": {},
   "outputs": [
    {
     "name": "stdout",
     "output_type": "stream",
     "text": [
      "number of samples for donor A: 334 and for donor B: 191\n"
     ]
    }
   ],
   "source": [
    "print('number of samples for donor A: {} and for donor B: {}'.format(len(metadata_s1['sample_id']), len(metadata_s2['sample_id'])))"
   ]
  },
  {
   "cell_type": "code",
   "execution_count": 9,
   "id": "840f08b0-fd24-4acd-89f2-c41f6cc82666",
   "metadata": {},
   "outputs": [
    {
     "data": {
      "image/png": "[encoded data removed]",
      "text/plain": [
       "<Figure size 300x300 with 1 Axes>"
      ]
     },
     "metadata": {},
     "output_type": "display_data"
    }
   ],
   "source": [
    "#plot timepoints\n",
    "samples_df = pd.DataFrame(list(zip(['DonorA', 'DonorB'], [len(metadata_s1['sample_id']), len(metadata_s2['sample_id'])])),\n",
    "                          columns = ['donor', 'number_of_samples'])\n",
    "\n",
    "plt.figure(figsize = [3, 3])\n",
    "sns.barplot(data = samples_df, x = 'donor', y='number_of_samples', palette = ['Grey', 'Orange'])\n",
    "plt.show()"
   ]
  },
  {
   "cell_type": "code",
   "execution_count": 10,
   "id": "feadf797-fdda-4304-b102-5d2e93f524fe",
   "metadata": {},
   "outputs": [],
   "source": [
    "#filter feature tables for s1 and s2\n",
    "s1_df = feature_table[metadata_s1['sample_id']]\n",
    "s2_df = feature_table[metadata_s2['sample_id']]\n",
    "\n",
    "#remove duplicates, keep first\n",
    "s1_df = s1_df[~s1_df.index.duplicated(keep='first')]\n",
    "s2_df = s2_df[~s2_df.index.duplicated(keep='first')]"
   ]
  },
  {
   "cell_type": "markdown",
   "id": "2402a01f-9557-4786-af44-295881c73b7f",
   "metadata": {},
   "source": [
    "## 2. interpolate using nearest interpolation\n",
    "\n"
   ]
  },
  {
   "cell_type": "code",
   "execution_count": 11,
   "id": "dd6a6cba-8da9-424d-9107-1ae2142551b4",
   "metadata": {},
   "outputs": [],
   "source": [
    "#change column names into days_since_experiment_start\n",
    "sample_to_day_dict_s1 = dict(zip(metadata_s1['sample_id'], metadata_s1['collection_day']))\n",
    "sample_to_day_dict_s2 = dict(zip(metadata_s2['sample_id'], metadata_s2['collection_day']))\n",
    "\n",
    "#change column names into days_since_experiment_start\n",
    "s1_df_timestep = s1_df.rename(columns=sample_to_day_dict_s1).T.sort_index()\n",
    "s2_df_timestep = s2_df.rename(columns=sample_to_day_dict_s2).T.sort_index()\n",
    "\n",
    "#remove duplicates from index\n",
    "s1_df_timestep = s1_df_timestep[~s1_df_timestep.index.duplicated()]\n",
    "s2_df_timestep = s2_df_timestep[~s2_df_timestep.index.duplicated()]\n",
    "s2_df_timestep = s2_df_timestep.iloc[:-1] #some 318 timestep"
   ]
  },
  {
   "cell_type": "code",
   "execution_count": 12,
   "id": "b0e1326d-6c20-4236-9789-e94136690e0e",
   "metadata": {},
   "outputs": [],
   "source": [
    "#check missing timepoints\n",
    "def calcualte_missing_points(df):\n",
    "\n",
    "    full_timepoints = [i for i in range(0, int(df.index[-1]))]\n",
    "    missing_timepoints  = list(set(full_timepoints) - set(df.index))\n",
    "    return len(missing_timepoints)"
   ]
  },
  {
   "cell_type": "code",
   "execution_count": 13,
   "id": "12aff848-fde9-499e-965f-27585b839088",
   "metadata": {},
   "outputs": [
    {
     "name": "stdout",
     "output_type": "stream",
     "text": [
      "number of missing days for donor A is: 41 and for donor B: 64\n"
     ]
    }
   ],
   "source": [
    "print('number of missing days for donor A is: {} and for donor B: {}'.format(calcualte_missing_points(s1_df_timestep), calcualte_missing_points(s2_df_timestep)))"
   ]
  },
  {
   "cell_type": "code",
   "execution_count": 17,
   "id": "07cbec97-1769-4cf3-a9f1-46ca31c5292b",
   "metadata": {},
   "outputs": [
    {
     "data": {
      "image/png": "[encoded data removed]",
      "text/plain": [
       "<Figure size 300x300 with 1 Axes>"
      ]
     },
     "metadata": {},
     "output_type": "display_data"
    }
   ],
   "source": [
    "#plot missing timepoints\n",
    "missing_days_df = pd.DataFrame(list(zip(['DonorA', 'DonorB'],\n",
    "                                        [calcualte_missing_points(s1_df_timestep), calcualte_missing_points(s2_df_timestep)])),\n",
    "                               columns = ['donor', 'missing_days'])\n",
    "\n",
    "plt.figure(figsize = [3, 3])\n",
    "sns.barplot(data = missing_days_df, x = 'donor', y='missing_days', palette = ['Grey', 'Orange'])\n",
    "plt.tight_layout()\n",
    "plt.savefig('q2202_missing_timepoints.png')\n",
    "plt.show()"
   ]
  },
  {
   "cell_type": "code",
   "execution_count": 18,
   "id": "5f300199-e420-487d-b4d7-e84a6d4dc8b7",
   "metadata": {},
   "outputs": [],
   "source": [
    "def nearest_interp(col, masked_df):\n",
    "    \n",
    "    #masked_df = masked_df.index.astype(int)\n",
    "    \n",
    "    df_interpolated = pd.DataFrame(index = masked_df.index)\n",
    "\n",
    "    tmp = masked_df[col]\n",
    "    base_nodes =  tmp.dropna().index #nodes\n",
    "    interpolated_nodes = tmp[tmp.isna()].index.tolist() #this is being interpolated\n",
    "    \n",
    "    f = interpolate.interp1d(base_nodes,\n",
    "                             tmp.dropna().values,\n",
    "                             kind='nearest')\n",
    "    new_y = f(interpolated_nodes)\n",
    "\n",
    "    name = str(col)\n",
    "    df_interpolated.loc[base_nodes, name] = tmp.dropna().values\n",
    "    df_interpolated.loc[interpolated_nodes, name] = new_y\n",
    "    \n",
    "    return df_interpolated"
   ]
  },
  {
   "cell_type": "code",
   "execution_count": 19,
   "id": "d2f549f0-3521-4e9d-82bc-2d14c463f365",
   "metadata": {},
   "outputs": [],
   "source": [
    "#interpolate dataframe using nearest interpolation method\n",
    "def interpolate_data(df):\n",
    "    \n",
    "    #check how many points are missing\n",
    "    full_df = list(range(0, int(df.index[-1])))\n",
    "    missing_tpoints = list(set(full_df) - set(df.index.astype(int)))\n",
    "\n",
    "    #add missing rows to out dataframe\n",
    "    df_with_missing_tpoints = df.reindex(df.index.union(missing_tpoints))\n",
    "\n",
    "    #dataframe with only missing timepoints\n",
    "    masked_df = df_with_missing_tpoints.loc[missing_tpoints]\n",
    "\n",
    "    #missing timepoints \n",
    "    print(df_with_missing_tpoints.isna().sum()[0] )\n",
    "    \n",
    "    #interpolate\n",
    "    interpolated_timepoints = []\n",
    "    for col in df_with_missing_tpoints.columns:\n",
    "        y = nearest_interp(col, df_with_missing_tpoints)\n",
    "        interpolated_timepoints.append(y)\n",
    "        \n",
    "    nearest_df = pd.concat(interpolated_timepoints, axis=1)\n",
    "\n",
    "    #drop columns that are 0 in all timepoints\n",
    "    #nearest_df = nearest_df.loc[:, (nearest_df != 0).any(axis=0)]\n",
    "    \n",
    "    return nearest_df"
   ]
  },
  {
   "cell_type": "code",
   "execution_count": 20,
   "id": "40c6df8a-7bad-426b-964e-5b7e3abb175d",
   "metadata": {},
   "outputs": [
    {
     "name": "stdout",
     "output_type": "stream",
     "text": [
      "41\n",
      "64\n"
     ]
    }
   ],
   "source": [
    "interpolated_s1_df = interpolate_data(s1_df_timestep)\n",
    "interpolated_s2_df = interpolate_data(s2_df_timestep)"
   ]
  },
  {
   "cell_type": "code",
   "execution_count": 134,
   "id": "b3a86adf-5b55-4cc3-9bf6-483db16e4d5c",
   "metadata": {},
   "outputs": [],
   "source": [
    "#save interpolated data\n",
    "interpolated_s1_df.T.to_csv('data_processing/subject1_interpolated.tsv', sep = '\\t')\n",
    "interpolated_s2_df.T.to_csv('data_processing/subject2_interpolated.tsv', sep = '\\t')"
   ]
  },
  {
   "cell_type": "markdown",
   "id": "da04723a-84c3-4ecd-ba08-0ecfbf7edb0a",
   "metadata": {},
   "source": [
    "## 3. rarefy"
   ]
  },
  {
   "cell_type": "code",
   "execution_count": 21,
   "id": "3df6f9bf-a01b-4ebc-8d14-e562468ba1b5",
   "metadata": {},
   "outputs": [
    {
     "name": "stdout",
     "output_type": "stream",
     "text": [
      "/storage/zkarwowska/zkarwowska/microbiome-interactions/datasets/processed/qiita_2202/data_processing/interpolation_rarefaction\n"
     ]
    }
   ],
   "source": [
    "%cd data_processing/interpolation_rarefaction/"
   ]
  },
  {
   "cell_type": "code",
   "execution_count": null,
   "id": "2157502c-224f-46b8-9b9e-913a7dd9f5bc",
   "metadata": {},
   "outputs": [],
   "source": [
    "biom convert -i subject1_interpolated.tsv -o subject1_interpolated.biom --table-type=\"OTU table\" --to-hdf5\n",
    "biom convert -i subject2_interpolated.tsv -o subject2_interpolated.biom --table-type=\"OTU table\" --to-hdf5"
   ]
  },
  {
   "cell_type": "code",
   "execution_count": 23,
   "id": "a9b9141f-8d22-4ac6-87b2-0711f557a7b2",
   "metadata": {},
   "outputs": [],
   "source": [
    "def rarefy_table(biom_file):\n",
    "    \n",
    "    unrarefied_table = qiime2.Artifact.import_data(\"FeatureTable[Frequency]\", biom_file)\n",
    "    #rarefy\n",
    "    rarefy_result = rarefy(table=unrarefied_table, sampling_depth=16000)\n",
    "    rarefied_table = rarefy_result.rarefied_table\n",
    "    rarefied_table_df = rarefied_table.view(pd.DataFrame)\n",
    "    \n",
    "    return rarefied_table_df"
   ]
  },
  {
   "cell_type": "code",
   "execution_count": 24,
   "id": "a2a76ae2-33b2-443e-8f14-824a5690dc30",
   "metadata": {},
   "outputs": [],
   "source": [
    "s1_interpolated_rarefied_df = rarefy_table('subject1_interpolated.biom')\n",
    "s2_interpolated_rarefied_df = rarefy_table('subject2_interpolated.biom')"
   ]
  },
  {
   "cell_type": "markdown",
   "id": "dd98934d-a467-4a1e-93dd-1ff12df16ac7",
   "metadata": {},
   "source": [
    "## 4. reinterpolate missing timepoints that were lost after rarefaction"
   ]
  },
  {
   "cell_type": "code",
   "execution_count": 25,
   "id": "0bbb87c0-140c-40d2-abde-a57b3d0ab52d",
   "metadata": {},
   "outputs": [],
   "source": [
    "def reinterpolate_data(df):\n",
    "    \n",
    "    missing_timepoints_after_rarefaction = list(set([float(i) for i in range(0, df.shape[0])]) - set(df.index.astype(float)))\n",
    "    rarefied_df_with_missing_tpoints = df.reindex(df.index.union(missing_timepoints_after_rarefaction))\n",
    "    rarefied_df_with_missing_tpoints.index = rarefied_df_with_missing_tpoints.index.astype(float)\n",
    "\n",
    "    interpolated_timepoints = []\n",
    "    for col in rarefied_df_with_missing_tpoints.columns:\n",
    "        y = nearest_interp(col, rarefied_df_with_missing_tpoints)\n",
    "        interpolated_timepoints.append(y)\n",
    "\n",
    "    nearest_rarefied_interpolated_df = pd.concat(interpolated_timepoints, axis=1)\n",
    "    nearest_rarefied_interpolated_df.index = nearest_rarefied_interpolated_df.index.astype(int)\n",
    "    nearest_rarefied_interpolated_df.index.name = '#OTU ID'\n",
    "    \n",
    "    return nearest_rarefied_interpolated_df"
   ]
  },
  {
   "cell_type": "code",
   "execution_count": 26,
   "id": "74b1ceb6-3b19-40b0-a5eb-a8df3938e539",
   "metadata": {},
   "outputs": [],
   "source": [
    "s1_reinterpolated_rarefied_df = reinterpolate_data(s1_interpolated_rarefied_df)\n",
    "s2_reinterpolated_rarefied_df = reinterpolate_data(s2_interpolated_rarefied_df)"
   ]
  },
  {
   "cell_type": "code",
   "execution_count": 27,
   "id": "b27f7a48-8bc4-4068-9c0e-c836a3ca1906",
   "metadata": {},
   "outputs": [
    {
     "name": "stdout",
     "output_type": "stream",
     "text": [
      "(365, 1547) (253, 1528)\n"
     ]
    }
   ],
   "source": [
    "print(s1_reinterpolated_rarefied_df.shape, s2_reinterpolated_rarefied_df.shape)"
   ]
  },
  {
   "cell_type": "code",
   "execution_count": 39,
   "id": "829d33df-629c-4e3c-afe3-54f0ab225684",
   "metadata": {},
   "outputs": [
    {
     "data": {
      "image/png": "[encoded data removed]",
      "text/plain": [
       "<Figure size 300x300 with 1 Axes>"
      ]
     },
     "metadata": {},
     "output_type": "display_data"
    }
   ],
   "source": [
    "days_s1 = int(s1_reinterpolated_rarefied_df.shape[0])\n",
    "days_s2 = int(s2_reinterpolated_rarefied_df.shape[0])\n",
    "\n",
    "days_df = pd.DataFrame(list(zip(['DonorA', 'DonorB'], [days_s1, days_s2])),\n",
    "                       columns = ['donor', 'n_days'])\n",
    "\n",
    "plt.figure(figsize = [3, 3])\n",
    "sns.barplot(data = days_df, x = 'donor', y='n_days', palette = ['Grey', 'Orange'])\n",
    "plt.tight_layout()\n",
    "plt.savefig('q2202_timepoints.png')\n",
    "plt.show()"
   ]
  },
  {
   "cell_type": "code",
   "execution_count": 150,
   "id": "c8caf494-6d85-4b00-bc9c-d30b00a4a58d",
   "metadata": {},
   "outputs": [],
   "source": [
    "s1_reinterpolated_rarefied_df.sort_index().to_csv('donorA_rarefied_interpolated_feces.csv')\n",
    "s2_reinterpolated_rarefied_df.sort_index().to_csv('donorB_rarefied_interpolated_feces.csv')"
   ]
  },
  {
   "cell_type": "code",
   "execution_count": null,
   "id": "f902d3da-b878-4143-816e-9cbcf269fe69",
   "metadata": {},
   "outputs": [],
   "source": [
    "#prepare data for alpha diversity testing - sample sample id that in metadata'\n",
    "''' reverse_sample_to_day_dict_s1 = dict(zip(metadata_s1['collection_day'], metadata_s1['sample_id']))\n",
    "dfA = pd.read_csv('data_processing/donorA_rarefied_interpolated_feces.csv')\n",
    "dfA = dfA.replace({'#OTU ID' : reverse_sample_to_day_dict_s1})\n",
    "dfA.to_csv('data_processing/donorA_rarefied_interpolated_feces_original_sample_id.tsv', sep = '\\t')\n",
    "\n",
    "reverse_sample_to_day_dict_s2 = dict(zip(metadata_s2['collection_day'], metadata_s2['sample_id']))\n",
    "dfB = pd.read_csv('data_processing/donorB_rarefied_interpolated_feces.csv')\n",
    "dfB = dfB.replace({'#OTU ID' : reverse_sample_to_day_dict_s2})\n",
    "dfB.to_csv('data_processing/donorB_rarefied_interpolated_feces_original_sample_id.tsv', sep = '\\t')'''"
   ]
  }
 ],
 "metadata": {
  "kernelspec": {
   "display_name": "qiime2_env",
   "language": "python",
   "name": "qiime2_env"
  },
  "language_info": {
   "codemirror_mode": {
    "name": "ipython",
    "version": 3
   },
   "file_extension": ".py",
   "mimetype": "text/x-python",
   "name": "python",
   "nbconvert_exporter": "python",
   "pygments_lexer": "ipython3",
   "version": "3.8.12"
  }
 },
 "nbformat": 4,
 "nbformat_minor": 5
}
