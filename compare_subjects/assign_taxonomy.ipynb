{
 "cells": [
  {
   "cell_type": "code",
   "execution_count": 1,
   "id": "51534e7e-4b47-4107-a7cf-0f3aa984917e",
   "metadata": {},
   "outputs": [],
   "source": [
    "import pandas as pd\n",
    "import seaborn as sns\n",
    "import matplotlib.pyplot as plt\n",
    "import biom\n",
    "import qiime2\n",
    "\n",
    "from scipy import stats\n",
    "import warnings\n",
    "import skbio\n",
    "from qiime2.plugins.feature_classifier.methods import classify_sklearn\n",
    "from itertools import cycle, islice"
   ]
  },
  {
   "cell_type": "code",
   "execution_count": 2,
   "id": "fe42d237-02d5-4327-b661-b07a33fe9a89",
   "metadata": {},
   "outputs": [],
   "source": [
    "warnings.filterwarnings(\"ignore\")\n",
    "sns.set(style=\"darkgrid\")"
   ]
  },
  {
   "cell_type": "code",
   "execution_count": 3,
   "id": "27bf49da-4046-40d8-bd83-4f8c29f4943f",
   "metadata": {},
   "outputs": [
    {
     "name": "stdout",
     "output_type": "stream",
     "text": [
      "/storage/zkarwowska/zkarwowska/microbiome-interactions/datasets/processed\n"
     ]
    }
   ],
   "source": [
    "%cd /storage/zkarwowska/zkarwowska/microbiome-interactions/datasets/processed/"
   ]
  },
  {
   "cell_type": "code",
   "execution_count": 4,
   "id": "1842f347-f065-47b3-aab8-f4834eee2830",
   "metadata": {},
   "outputs": [],
   "source": [
    "#read feature table (csv)\n",
    "q2202_s1_feature_table = pd.read_csv('qiita_2202/data_processing/interpolation_rarefaction/donorA_rarefied_interpolated_feces.csv', index_col = [0])\n",
    "q2202_s2_feature_table = pd.read_csv('qiita_2202/data_processing/interpolation_rarefaction/donorB_rarefied_interpolated_feces.csv', index_col = [0])\n",
    "q550_m_feature_table = pd.read_csv('qiita_550//data_processing/interpolation_rarefaction/male_rarefied_interpolated_feces.csv', index_col = [0])\n",
    "q550_m_feature_table = q550_m_feature_table.sort_index()\n",
    "q550_f_feature_table = pd.read_csv('qiita_550//data_processing/interpolation_rarefaction/female_rarefied_interpolated_feces.csv', index_col = [0])\n",
    "q550_f_feature_table = q550_f_feature_table.sort_index()"
   ]
  },
  {
   "cell_type": "code",
   "execution_count": 5,
   "id": "6807acec-291d-4e2e-b338-29c723fd4088",
   "metadata": {},
   "outputs": [],
   "source": [
    "#read filtered sequences\n",
    "q2202_s1_filtered_sequences = qiime2.Artifact.load('alpha_diversity_analysis_4_datasets/q2202_s1_filtered_sequences.qza')\n",
    "q2202_s2_filtered_sequences = qiime2.Artifact.load('alpha_diversity_analysis_4_datasets/q2202_s2_filtered_sequences.qza')\n",
    "q550_m_filtered_sequences= qiime2.Artifact.load('alpha_diversity_analysis_4_datasets/q550_m_filtered_sequences.qza')\n",
    "q550_f_filtered_sequences = qiime2.Artifact.load('alpha_diversity_analysis_4_datasets/q550_f_filtered_sequences.qza')"
   ]
  },
  {
   "cell_type": "code",
   "execution_count": null,
   "id": "0ec58d43-f31a-484c-93b7-3db235b4af62",
   "metadata": {},
   "outputs": [],
   "source": [
    "#read classifier\n",
    "classifier = qiime2.Artifact.load('gg-13-8-99-515-806-nb-classifier.qza')"
   ]
  },
  {
   "cell_type": "code",
   "execution_count": 8,
   "id": "5e194389-0132-496e-b492-8f690ebfdc1b",
   "metadata": {},
   "outputs": [],
   "source": [
    "def assign_taxonomy(sequences_artifact, df):\n",
    "    \n",
    "    def prepare_taxonomy_dict(sequences_artifact):\n",
    "        \n",
    "        classification = classify_sklearn(sequences_artifact, classifier)\n",
    "        classification_df = classification.classification.view(pd.DataFrame).reset_index()\n",
    "        taxonomy_dictionary = dict(zip(classification_df['Feature ID'].tolist(), classification_df['Taxon'].tolist()))\n",
    "        \n",
    "        return taxonomy_dictionary \n",
    "    \n",
    "    taxonomy_dictionary = prepare_taxonomy_dict(sequences_artifact)\n",
    "    assigned_taxonomy_df = df.T.reset_index().replace({\"index\": taxonomy_dictionary})\n",
    "    assigned_taxonomy_df[['k', 'p', 'c', 'o', 'f', 'g', 's']] =  assigned_taxonomy_df['index'].str.split(';', expand = True)\n",
    "    assigned_taxonomy_df = assigned_taxonomy_df.drop(['index'], axis = 1)\n",
    "\n",
    "    return assigned_taxonomy_df"
   ]
  },
  {
   "cell_type": "code",
   "execution_count": 9,
   "id": "b886fc2e-d1c6-49d9-ab65-739e88de3cca",
   "metadata": {},
   "outputs": [],
   "source": [
    "q2202_s1_taxonomy = assign_taxonomy(q2202_s1_filtered_sequences, q2202_s1_feature_table)\n",
    "q2202_s2_taxonomy = assign_taxonomy(q2202_s2_filtered_sequences, q2202_s2_feature_table)\n",
    "\n",
    "q550_m_taxonomy = assign_taxonomy(q550_m_filtered_sequences, q550_m_feature_table)\n",
    "q550_f_taxonomy = assign_taxonomy(q550_f_filtered_sequences, q550_f_feature_table)"
   ]
  },
  {
   "cell_type": "code",
   "execution_count": 10,
   "id": "770acb3b-01f2-4823-9816-ef38be6faa1a",
   "metadata": {},
   "outputs": [],
   "source": [
    "q2202_s1_taxonomy.to_csv('taxonomy/q2202_s1_taxonomy.csv')\n",
    "q2202_s2_taxonomy.to_csv('taxonomy/q2202_s2_taxonomy.csv')\n",
    "q550_m_taxonomy.to_csv('taxonomy/q550_m_taxonomy.csv')\n",
    "q550_f_taxonomy.to_csv('taxonomy/q550_f_taxonomy.csv')"
   ]
  }
 ],
 "metadata": {
  "kernelspec": {
   "display_name": "qiime2_env",
   "language": "python",
   "name": "qiime2_env"
  },
  "language_info": {
   "codemirror_mode": {
    "name": "ipython",
    "version": 3
   },
   "file_extension": ".py",
   "mimetype": "text/x-python",
   "name": "python",
   "nbconvert_exporter": "python",
   "pygments_lexer": "ipython3",
   "version": "3.8.12"
  }
 },
 "nbformat": 4,
 "nbformat_minor": 5
}
