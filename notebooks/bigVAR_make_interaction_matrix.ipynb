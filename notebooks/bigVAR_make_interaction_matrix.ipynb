{
 "cells": [
  {
   "cell_type": "code",
   "execution_count": 2,
   "id": "0331d329-00a8-442d-ab46-c48699a68260",
   "metadata": {},
   "outputs": [],
   "source": [
    "library(data.table)\n",
    "library(dplyr)\n",
    "library(BigVAR)\n",
    "library(forecast)\n",
    "library(DescTools)"
   ]
  },
  {
   "cell_type": "code",
   "execution_count": 3,
   "id": "3aca930f-0c9b-4b8a-ac3c-91f815351785",
   "metadata": {},
   "outputs": [],
   "source": [
    "file_donorA = '/storage/zkarwowska/microbiome-interactions/datasets/processed/ready_datasets_transformed/common/donorA.csv'\n",
    "file_donorB = '/storage/zkarwowska/microbiome-interactions/datasets/processed/ready_datasets_transformed/common/donorB.csv'\n",
    "file_M = '/storage/zkarwowska/microbiome-interactions/datasets/processed/ready_datasets_transformed/common/male.csv'\n",
    "file_F = '/storage/zkarwowska/microbiome-interactions/datasets/processed/ready_datasets_transformed/common/female.csv'"
   ]
  },
  {
   "cell_type": "markdown",
   "id": "b7e4cfc8-da46-4582-9225-849f07bfc3bb",
   "metadata": {},
   "source": [
    "# MODEL"
   ]
  },
  {
   "cell_type": "code",
   "execution_count": 29,
   "id": "307042e1-4ccc-4ff6-be56-f26f99bc9546",
   "metadata": {},
   "outputs": [],
   "source": [
    "construct_interaction_matrix<-function(file, title){\n",
    "    \n",
    "    #' Fit a dataframe with all timesteps as samples and\n",
    "    #' top 50 bacteria to a BigVar model with lag 1.\n",
    "    #' It returns an interactions matrix\n",
    "    \n",
    "    #read file\n",
    "    df <- read.table(file, sep = \",\", header = TRUE, row.names=\"X\")\n",
    "    #get top 50 bacteria\n",
    "    df_top50 <- df[,1:50]\n",
    "\n",
    "    #scale\n",
    "    x_scaled = scale(df_top50)\n",
    "    #x_test_scaled = scale(x_test, center=attr(x_train_scaled, \"scaled:center\"), #if split into train and test\n",
    "                                  #scale=attr(x_train_scaled, \"scaled:scale\"))\n",
    "    # difference\n",
    "    x_scaled_diff = as.matrix(diff(x_scaled, differences = 1, lag = 1))\n",
    "    x_scaled_diff_matrix = as.matrix(x_scaled_diff)\n",
    "\n",
    "    #fit a BigVAR model\n",
    "    p = 1    #lag\n",
    "    m1=constructModel(x_scaled_diff_matrix,\n",
    "                      p=p,\n",
    "                      struct=\"Basic\", #lasso penalty\n",
    "                      gran=c(150,10),\n",
    "                      verbose=FALSE,\n",
    "                      IC=TRUE                    \n",
    "                     )\n",
    "    #cross validate to find penalty params\n",
    "    results=cv.BigVAR(m1)\n",
    "    #get coefficients matrix\n",
    "    B2=results@betaPred\n",
    "\n",
    "    #change matrix into a dataframe and save\n",
    "    COEF_MATRIX_DF <- as.data.frame(B2)\n",
    "    COEF_MATRIX_DF['otu'] <- colnames(df_top50)\n",
    "    write.csv(COEF_MATRIX_DF, title)\n",
    "}"
   ]
  },
  {
   "cell_type": "code",
   "execution_count": 34,
   "id": "0c215099-4a19-4f42-bf98-2ff239f0879a",
   "metadata": {},
   "outputs": [],
   "source": [
    "construct_interaction_matrix(file_F, '/storage/zkarwowska/microbiome-interactions/datasets/processed/female_interaction_m.csv')"
   ]
  }
 ],
 "metadata": {
  "kernelspec": {
   "display_name": "R",
   "language": "R",
   "name": "ir"
  },
  "language_info": {
   "codemirror_mode": "r",
   "file_extension": ".r",
   "mimetype": "text/x-r-source",
   "name": "R",
   "pygments_lexer": "r",
   "version": "4.1.2"
  }
 },
 "nbformat": 4,
 "nbformat_minor": 5
}
