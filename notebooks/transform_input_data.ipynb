{
 "cells": [
  {
   "cell_type": "code",
   "execution_count": 1,
   "id": "07ca900d-bb81-4a99-9cde-3202e7c0a093",
   "metadata": {},
   "outputs": [],
   "source": [
    "import os\n",
    "import sys\n",
    "import numpy as np\n",
    "import pandas as pd\n",
    "import joblib\n",
    "\n",
    "from scipy.stats import gmean\n",
    "from pathlib import Path\n",
    "from sklearn.preprocessing import QuantileTransformer, MinMaxScaler, StandardScaler"
   ]
  },
  {
   "cell_type": "markdown",
   "id": "ad1ebc05-7b1f-4390-bb89-b591af84f02d",
   "metadata": {
    "tags": []
   },
   "source": [
    "# Load self-written transformers"
   ]
  },
  {
   "cell_type": "code",
   "execution_count": 2,
   "id": "7105ff96-308b-450a-9482-b632e0c575dd",
   "metadata": {},
   "outputs": [],
   "source": [
    "MODULE_PATH = os.path.abspath('/storage/pszczerbiak/microbiome_interactions_project/')  # TODO load from CONFIG file\n",
    "# MODULE_PATH = os.path.abspath(os.path.join('..'))\n",
    "if MODULE_PATH not in sys.path:\n",
    "    sys.path.append(MODULE_PATH)"
   ]
  },
  {
   "cell_type": "code",
   "execution_count": 3,
   "id": "60bcea75-835f-40e4-b004-b63b45c1d72a",
   "metadata": {},
   "outputs": [],
   "source": [
    "from utils.transformers import RCLRTransformer, CLRTransformer, Log1pMinMaxScaler, IdentityScaler"
   ]
  },
  {
   "cell_type": "markdown",
   "id": "cd15628e-548e-41e1-9edd-009bbe701466",
   "metadata": {
    "tags": []
   },
   "source": [
    "# Load data"
   ]
  },
  {
   "cell_type": "code",
   "execution_count": 4,
   "id": "1aedaafb-2432-497d-b2e0-e6ae9b620f71",
   "metadata": {},
   "outputs": [],
   "source": [
    "MAIN_PATH = Path(\"/storage/zkarwowska/microbiome-interactions/\")  # TODO load from CONFIG file\n",
    "INPUT_PATH = MAIN_PATH / \"datasets/processed/ready_datasets\"\n",
    "OUTPUT_PATH = MAIN_PATH / \"datasets/processed/ready_datasets_transformed\""
   ]
  },
  {
   "cell_type": "code",
   "execution_count": 5,
   "id": "9da061c0-1e72-4540-9d9a-c7afdf58630a",
   "metadata": {},
   "outputs": [],
   "source": [
    "def load_df(filepath, clear_cols=False):\n",
    "    df = pd.read_csv(filepath, index_col=0, header=0)\n",
    "    if clear_cols:\n",
    "        df.columns = range(1, len(data_raw.columns)+1)\n",
    "    df.sort_index(inplace=True)\n",
    "    df.index.name = None\n",
    "    return df"
   ]
  },
  {
   "cell_type": "code",
   "execution_count": 6,
   "id": "4a19d0a1-8718-4236-b08e-58ae7a1c6e78",
   "metadata": {},
   "outputs": [],
   "source": [
    "data_raw = {}\n",
    "data_raw['donorA'] = load_df(INPUT_PATH / \"donorA_rarefied_interpolated_feces.csv\")\n",
    "data_raw['donorB'] = load_df(INPUT_PATH / \"donorB_rarefied_interpolated_feces.csv\")\n",
    "data_raw['female'] = load_df(INPUT_PATH / \"female_rarefied_interpolated_feces.csv\")\n",
    "data_raw['male'] = load_df(INPUT_PATH / \"male_rarefied_interpolated_feces.csv\")"
   ]
  },
  {
   "cell_type": "code",
   "execution_count": 7,
   "id": "760f75cd-2533-4280-b9ff-6d84ba82d9ed",
   "metadata": {},
   "outputs": [
    {
     "name": "stdout",
     "output_type": "stream",
     "text": [
      "donorA (365, 1531)\n",
      "donorB (253, 1545)\n",
      "female (186, 544)\n",
      "male (443, 1219)\n"
     ]
    }
   ],
   "source": [
    "for k, v in data_raw.items():\n",
    "    print(k, v.shape)"
   ]
  },
  {
   "cell_type": "markdown",
   "id": "5ea90f7b-d8b9-4dcc-ac57-e866781d1886",
   "metadata": {
    "tags": []
   },
   "source": [
    "## Common part"
   ]
  },
  {
   "cell_type": "code",
   "execution_count": 20,
   "id": "639063a5-8826-47a9-b65d-c80d70ad1946",
   "metadata": {},
   "outputs": [],
   "source": [
    "cols_common = pd.concat(data_raw.values(), join='inner').columns"
   ]
  },
  {
   "cell_type": "code",
   "execution_count": 21,
   "id": "1d315d05-73fe-44d7-9d5a-c850eaca9115",
   "metadata": {},
   "outputs": [],
   "source": [
    "data_common = {}\n",
    "for k, v in data_raw.items():\n",
    "    data_common[k] = v[cols_common]"
   ]
  },
  {
   "cell_type": "code",
   "execution_count": 22,
   "id": "7ed3f771-77d1-41b0-bc9e-e022aa26b25b",
   "metadata": {},
   "outputs": [
    {
     "name": "stdout",
     "output_type": "stream",
     "text": [
      "donorA (365, 166)\n",
      "donorB (253, 166)\n",
      "female (186, 166)\n",
      "male (443, 166)\n"
     ]
    }
   ],
   "source": [
    "for k, v in data_common.items():\n",
    "    print(k, v.shape)"
   ]
  },
  {
   "cell_type": "markdown",
   "id": "73d7ddbc-e996-4ee4-b2d9-c27e9e58c154",
   "metadata": {
    "tags": []
   },
   "source": [
    "### Sort by abundance"
   ]
  },
  {
   "cell_type": "code",
   "execution_count": 23,
   "id": "e694da1f-aefe-4803-8e57-0635650eb06f",
   "metadata": {},
   "outputs": [],
   "source": [
    "cols_sorted_by_abundance = pd.concat(data_common).sum().sort_values(ascending=False).index"
   ]
  },
  {
   "cell_type": "code",
   "execution_count": 24,
   "id": "c8ff04cc-9cc9-4d90-9fcb-951fc5e0ecd2",
   "metadata": {},
   "outputs": [],
   "source": [
    "for k, v in data_common.items():\n",
    "    data_common[k] = data_common[k][cols_sorted_by_abundance]"
   ]
  },
  {
   "cell_type": "markdown",
   "id": "e804ac54-6a97-4a1e-b9fd-d2ed4ca78fc5",
   "metadata": {
    "tags": []
   },
   "source": [
    "### Reset column names"
   ]
  },
  {
   "cell_type": "code",
   "execution_count": 25,
   "id": "07a83ff3-b086-4ed8-beeb-415680ec5082",
   "metadata": {},
   "outputs": [],
   "source": [
    "# for k, v in data_raw.items():\n",
    "#     data_common[k].columns = range(1, len(data_common[k].columns)+1)         \n",
    "#     data_raw[k].columns = range(1, len(data_raw[k].columns)+1) "
   ]
  },
  {
   "cell_type": "markdown",
   "id": "90bbbdf3-4439-4f60-950f-992343168ffb",
   "metadata": {},
   "source": [
    "# Transform data"
   ]
  },
  {
   "cell_type": "markdown",
   "id": "cfef84c5-73f7-48d8-a7d1-c9c3e0cbaeac",
   "metadata": {},
   "source": [
    "## Create scalers / transformers"
   ]
  },
  {
   "cell_type": "code",
   "execution_count": null,
   "id": "bc874782-e24a-4c08-9286-a5bb2ad8e13f",
   "metadata": {},
   "outputs": [],
   "source": [
    "scaler_id = IdentityScaler()\n",
    "scaler_std = StandardScaler()\n",
    "scaler_minmax = MinMaxScaler()\n",
    "scaler_quantile10 = QuantileTransformer(n_quantiles=10, output_distribution='uniform')\n",
    "scaler_quantile50 = QuantileTransformer(n_quantiles=50, output_distribution='uniform')\n",
    "scaler_quantile100 = QuantileTransformer(n_quantiles=100, output_distribution='uniform')\n",
    "scaler_quantile150 = QuantileTransformer(n_quantiles=150, output_distribution='uniform')\n",
    "# transformer_rclr = RCLRTransformer(axis=0)  # compute gmean for each species <-- cannot use it since we need `mask` paramter always present....\n",
    "transformer_clr_0_False = CLRTransformer(axis=0, is_pseudo_global=False)  # compute gmean for each species\n",
    "transformer_clr_0_True  = CLRTransformer(axis=0, is_pseudo_global=True)  # compute gmean for each species\n",
    "transformer_clr_None_False  = CLRTransformer(axis=None, is_pseudo_global=False)  # compute gmean globally\n",
    "transformer_clr_None_True  = CLRTransformer(axis=None, is_pseudo_global=True)  # compute gmean globally\n",
    "scaler_log1pminmax = Log1pMinMaxScaler()"
   ]
  },
  {
   "cell_type": "code",
   "execution_count": null,
   "id": "b574ffce-2485-4ff7-b8af-24d1f8781ff5",
   "metadata": {},
   "outputs": [],
   "source": [
    "scalers = {'id' : scaler_id,\n",
    "           'std' : scaler_std,\n",
    "           'minmax' : scaler_minmax,\n",
    "           'quantile10': scaler_quantile10,\n",
    "           'quantile50': scaler_quantile50,\n",
    "           'quantile100': scaler_quantile100,\n",
    "           'quantile150': scaler_quantile150,\n",
    "           # 'rclr': transformer_rclr,\n",
    "           'clr_0_False': transformer_clr_0_False,\n",
    "           'clr_0_True': transformer_clr_0_True,\n",
    "           'clr_None_False': transformer_clr_None_False,\n",
    "           'clr_None_True': transformer_clr_None_True,\n",
    "           'log1pminmax': scaler_log1pminmax,\n",
    "          }"
   ]
  },
  {
   "cell_type": "markdown",
   "id": "5309157b-a228-48b5-8686-e797b35aeef1",
   "metadata": {
    "jp-MarkdownHeadingCollapsed": true,
    "tags": []
   },
   "source": [
    "## Common part"
   ]
  },
  {
   "cell_type": "markdown",
   "id": "e01a3948-beb1-4638-b6ed-93f4888257cb",
   "metadata": {},
   "source": [
    "### Save original datasets"
   ]
  },
  {
   "cell_type": "code",
   "execution_count": 28,
   "id": "eb40be58-6d48-476a-a1f6-f08e41ff8f24",
   "metadata": {},
   "outputs": [],
   "source": [
    "for k, v in data_common.items():\n",
    "    v.to_csv(OUTPUT_PATH / 'common' / f'{k}.csv')"
   ]
  },
  {
   "cell_type": "markdown",
   "id": "074846fa-08ee-4ca4-a502-6d06f5af4c5e",
   "metadata": {},
   "source": [
    "### Save scaled datasets"
   ]
  },
  {
   "cell_type": "code",
   "execution_count": 29,
   "id": "b239df7b-f124-4a78-8e20-3157e6d0d31e",
   "metadata": {
    "tags": []
   },
   "outputs": [],
   "source": [
    "for name, scaler in scalers.items():\n",
    "    for k, v in data_common.items():\n",
    "        scaled_df = pd.DataFrame(scaler.fit_transform(v))\n",
    "        scaled_df.columns = v.columns\n",
    "        # Save transformed dataframe\n",
    "        scaled_df.to_csv(OUTPUT_PATH / 'common' / f'{k}_{name}.csv')\n",
    "        # Save scaler\n",
    "        joblib.dump(scaler, OUTPUT_PATH / 'common' / f'scaler_{k}_{name}.obj')"
   ]
  }
 ],
 "metadata": {
  "kernelspec": {
   "display_name": "keras",
   "language": "python",
   "name": "keras"
  },
  "language_info": {
   "codemirror_mode": {
    "name": "ipython",
    "version": 3
   },
   "file_extension": ".py",
   "mimetype": "text/x-python",
   "name": "python",
   "nbconvert_exporter": "python",
   "pygments_lexer": "ipython3",
   "version": "3.9.7"
  }
 },
 "nbformat": 4,
 "nbformat_minor": 5
}
